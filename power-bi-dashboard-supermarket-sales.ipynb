{
 "cells": [
  {
   "cell_type": "markdown",
   "id": "083bc668",
   "metadata": {
    "papermill": {
     "duration": 0.002458,
     "end_time": "2022-12-31T19:42:22.008510",
     "exception": false,
     "start_time": "2022-12-31T19:42:22.006052",
     "status": "completed"
    },
    "tags": []
   },
   "source": [
    "### Power BI dashboard "
   ]
  },
  {
   "cell_type": "markdown",
   "id": "ca990096",
   "metadata": {
    "papermill": {
     "duration": 0.001231,
     "end_time": "2022-12-31T19:42:22.011423",
     "exception": false,
     "start_time": "2022-12-31T19:42:22.010192",
     "status": "completed"
    },
    "tags": []
   },
   "source": [
    "<html>\n",
    "<h1>\n",
    "    Power Bi dashbord \n",
    "</h1>\n",
    "   <body>\n",
    "     <iframe title=\"store - Page 1\" width=\"1024\" height=\"624\" src=\"https://app.powerbi.com/view?r=eyJrIjoiMDU4ZDQ5NGUtZGNjZC00NjUxLTk4MjUtMTZlZDQxY2ZkNzFmIiwidCI6IjU1NWNlYTIyLWI5YTMtNDcyOS1iZTM4LWQ5YjQzZmMyNjIwZCJ9\" frameborder=\"0\" allowFullScreen=\"true\"></iframe>\n",
    "</html>"
   ]
  }
 ],
 "metadata": {
  "kernelspec": {
   "display_name": "Python 3",
   "language": "python",
   "name": "python3"
  },
  "language_info": {
   "codemirror_mode": {
    "name": "ipython",
    "version": 3
   },
   "file_extension": ".py",
   "mimetype": "text/x-python",
   "name": "python",
   "nbconvert_exporter": "python",
   "pygments_lexer": "ipython3",
   "version": "3.7.12"
  },
  "papermill": {
   "default_parameters": {},
   "duration": 9.383458,
   "end_time": "2022-12-31T19:42:22.737319",
   "environment_variables": {},
   "exception": null,
   "input_path": "__notebook__.ipynb",
   "output_path": "__notebook__.ipynb",
   "parameters": {},
   "start_time": "2022-12-31T19:42:13.353861",
   "version": "2.3.4"
  }
 },
 "nbformat": 4,
 "nbformat_minor": 5
}
